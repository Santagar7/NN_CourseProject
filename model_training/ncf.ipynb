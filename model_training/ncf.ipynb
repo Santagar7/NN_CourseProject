{
 "cells": [
  {
   "cell_type": "code",
   "execution_count": 2,
   "metadata": {
    "collapsed": true,
    "ExecuteTime": {
     "end_time": "2023-06-07T21:10:32.410675500Z",
     "start_time": "2023-06-07T21:10:32.234869700Z"
    },
    "pycharm": {
     "name": "#%%\n"
    }
   },
   "outputs": [],
   "source": [
    "import pandas as pd\n",
    "import numpy as np\n",
    "from sklearn.model_selection import train_test_split\n",
    "from keras.layers import Input, Embedding, Flatten, Dot, Dense\n",
    "from keras.models import Model\n",
    "from keras.models import load_model\n",
    "from sklearn.metrics import mean_absolute_error"
   ]
  },
  {
   "cell_type": "code",
   "execution_count": 3,
   "outputs": [],
   "source": [
    "ratings = pd.read_csv('../base_dataset/ml-100k/u.data', sep='\\t', names=['user_id', 'movie_id', 'rating', 'timestamp'])"
   ],
   "metadata": {
    "collapsed": false,
    "ExecuteTime": {
     "end_time": "2023-06-07T21:10:32.469064300Z",
     "start_time": "2023-06-07T21:10:32.250877500Z"
    },
    "pycharm": {
     "name": "#%%\n"
    }
   }
  },
  {
   "cell_type": "code",
   "execution_count": 4,
   "outputs": [],
   "source": [
    "# Encoding users and movies as integer indices.\n",
    "user_ids = ratings['user_id'].unique().tolist()\n",
    "movie_ids = ratings['movie_id'].unique().tolist()\n",
    "user2user_encoded = {x: i for i, x in enumerate(user_ids)}\n",
    "movie2movie_encoded = {x: i for i, x in enumerate(movie_ids)}\n",
    "\n",
    "ratings['user'] = ratings['user_id'].map(user2user_encoded)\n",
    "ratings['movie'] = ratings['movie_id'].map(movie2movie_encoded)\n",
    "\n",
    "num_users = len(user2user_encoded)\n",
    "num_movies = len(movie2movie_encoded)"
   ],
   "metadata": {
    "collapsed": false,
    "ExecuteTime": {
     "end_time": "2023-06-07T21:10:32.469064300Z",
     "start_time": "2023-06-07T21:10:32.313109600Z"
    },
    "pycharm": {
     "name": "#%%\n"
    }
   }
  },
  {
   "cell_type": "code",
   "execution_count": 5,
   "outputs": [],
   "source": [
    "# Split the data into training and test datasets.\n",
    "X = ratings[['user', 'movie']].values\n",
    "y = ratings['rating'].values\n",
    "\n",
    "X_train, X_test, y_train, y_test = train_test_split(X, y, test_size=0.1, random_state=42)"
   ],
   "metadata": {
    "collapsed": false,
    "ExecuteTime": {
     "end_time": "2023-06-07T21:10:32.469064300Z",
     "start_time": "2023-06-07T21:10:32.344432500Z"
    },
    "pycharm": {
     "name": "#%%\n"
    }
   }
  },
  {
   "cell_type": "code",
   "execution_count": 6,
   "outputs": [],
   "source": [
    "# Define the NCF model using the Functional API.\n",
    "user_input = Input(shape=(1,), dtype='int32', name='user')\n",
    "movie_input = Input(shape=(1,), dtype='int32', name='movie')\n",
    "\n",
    "user_embedding = Embedding(output_dim=50, input_dim=num_users, input_length=1, name='user_embedding')(user_input)\n",
    "movie_embedding = Embedding(output_dim=50, input_dim=num_movies, input_length=1, name='movie_embedding')(movie_input)\n",
    "\n",
    "user_flatten = Flatten()(user_embedding)\n",
    "movie_flatten = Flatten()(movie_embedding)\n",
    "\n",
    "dot_product = Dot(axes=1)([user_flatten, movie_flatten])"
   ],
   "metadata": {
    "collapsed": false,
    "ExecuteTime": {
     "end_time": "2023-06-07T21:10:32.497132Z",
     "start_time": "2023-06-07T21:10:32.374973Z"
    },
    "pycharm": {
     "name": "#%%\n"
    }
   }
  },
  {
   "cell_type": "code",
   "execution_count": 7,
   "outputs": [],
   "source": [
    "dense1 = Dense(128, activation='relu')(dot_product)\n",
    "dense2 = Dense(1)(dense1)\n",
    "\n",
    "model = Model(inputs=[user_input, movie_input], outputs=dense2)\n",
    "\n",
    "# Compile the model.\n",
    "model.compile(optimizer='adam', loss='mse', metrics=['mae'])"
   ],
   "metadata": {
    "collapsed": false,
    "ExecuteTime": {
     "end_time": "2023-06-07T21:10:32.561673200Z",
     "start_time": "2023-06-07T21:10:32.482727800Z"
    },
    "pycharm": {
     "name": "#%%\n"
    }
   }
  },
  {
   "cell_type": "code",
   "execution_count": 8,
   "outputs": [
    {
     "name": "stdout",
     "output_type": "stream",
     "text": [
      "Epoch 1/5\n",
      "2532/2532 [==============================] - 10s 4ms/step - loss: 1.6049 - mae: 1.0136 - val_loss: 1.1071 - val_mae: 0.8431\n",
      "Epoch 2/5\n",
      "2532/2532 [==============================] - 7s 3ms/step - loss: 0.7910 - mae: 0.6934 - val_loss: 0.9612 - val_mae: 0.7728\n",
      "Epoch 3/5\n",
      "2532/2532 [==============================] - 8s 3ms/step - loss: 0.4694 - mae: 0.5316 - val_loss: 1.0362 - val_mae: 0.7949\n",
      "Epoch 4/5\n",
      "2532/2532 [==============================] - 7s 3ms/step - loss: 0.3251 - mae: 0.4382 - val_loss: 1.1245 - val_mae: 0.8248\n",
      "Epoch 5/5\n",
      "2532/2532 [==============================] - 8s 3ms/step - loss: 0.2556 - mae: 0.3856 - val_loss: 1.2095 - val_mae: 0.8512\n"
     ]
    }
   ],
   "source": [
    "# Train the model.\n",
    "history = model.fit([X_train[:, 0], X_train[:, 1]], y_train, epochs=5, verbose=1, validation_split=0.1)"
   ],
   "metadata": {
    "collapsed": false,
    "ExecuteTime": {
     "end_time": "2023-06-07T21:10:59.030133100Z",
     "start_time": "2023-06-07T21:10:32.558680Z"
    },
    "pycharm": {
     "name": "#%%\n"
    }
   }
  },
  {
   "cell_type": "code",
   "execution_count": 9,
   "outputs": [
    {
     "name": "stderr",
     "output_type": "stream",
     "text": [
      "WARNING:absl:Found untraced functions such as _update_step_xla while saving (showing 1 of 1). These functions will not be directly callable after loading.\n"
     ]
    },
    {
     "name": "stdout",
     "output_type": "stream",
     "text": [
      "INFO:tensorflow:Assets written to: C:\\Users\\dobis\\OneDrive\\itrytostudy\\nn\\app\\NN_CourseProject\\src\\model\\ncf_model\\assets\n"
     ]
    },
    {
     "name": "stderr",
     "output_type": "stream",
     "text": [
      "INFO:tensorflow:Assets written to: C:\\Users\\dobis\\OneDrive\\itrytostudy\\nn\\app\\NN_CourseProject\\src\\model\\ncf_model\\assets\n"
     ]
    }
   ],
   "source": [
    "# Save the model\n",
    "model.save('C:\\\\Users\\\\dobis\\\\OneDrive\\\\itrytostudy\\\\nn\\\\app\\\\NN_CourseProject\\\\src\\\\model\\\\ncf_model')"
   ],
   "metadata": {
    "collapsed": false,
    "ExecuteTime": {
     "end_time": "2023-06-07T21:10:59.960346700Z",
     "start_time": "2023-06-07T21:10:59.029096500Z"
    },
    "pycharm": {
     "name": "#%%\n"
    }
   }
  },
  {
   "cell_type": "code",
   "execution_count": 10,
   "outputs": [],
   "source": [
    "# Load the movie metadata\n",
    "movie_cols = ['movie_id', 'title', 'release_date', 'video_release_date', 'imdb_url',\n",
    "              'unknown', 'Action', 'Adventure', 'Animation', \"Children's\", 'Comedy',\n",
    "              'Crime', 'Documentary', 'Drama', 'Fantasy', 'Film-Noir', 'Horror',\n",
    "              'Musical', 'Mystery', 'Romance', 'Sci-Fi', 'Thriller', 'War', 'Western']\n",
    "\n",
    "movies = pd.read_csv('../base_dataset/ml-100k/u.item', sep='|', names=movie_cols, encoding='latin-1')"
   ],
   "metadata": {
    "collapsed": false,
    "ExecuteTime": {
     "end_time": "2023-06-07T21:16:42.633313800Z",
     "start_time": "2023-06-07T21:16:42.601849400Z"
    },
    "pycharm": {
     "name": "#%%\n"
    }
   }
  },
  {
   "cell_type": "code",
   "execution_count": 24,
   "outputs": [
    {
     "name": "stdout",
     "output_type": "stream",
     "text": [
      "313/313 [==============================] - 0s 820us/step\n",
      "Test MAE: 0.8285050887227059\n"
     ]
    }
   ],
   "source": [
    "# Make predictions on the test data\n",
    "y_pred = model.predict([X_test[:, 0], X_test[:, 1]])\n",
    "\n",
    "# Compute MAE\n",
    "mae = mean_absolute_error(y_test, y_pred)\n",
    "\n",
    "print(f'Test MAE: {mae}')"
   ],
   "metadata": {
    "collapsed": false,
    "ExecuteTime": {
     "end_time": "2023-06-07T21:16:44.013184600Z",
     "start_time": "2023-06-07T21:16:43.563421200Z"
    },
    "pycharm": {
     "name": "#%%\n"
    }
   }
  },
  {
   "cell_type": "code",
   "execution_count": 43,
   "outputs": [],
   "source": [
    "def get_genres(row):\n",
    "    # Here we're returning a string that combines all the genres of a movie\n",
    "    return ', '.join([col for col in movie_cols[5:] if row[col]])\n",
    "\n",
    "def transform_genres(movie):\n",
    "    genres = []\n",
    "    genre_mapping = {\n",
    "        'unknown': 'unknown',\n",
    "        'Action': 'Action',\n",
    "        'Adventure': 'Adventure',\n",
    "        'Animation': 'Animation',\n",
    "        \"Children's\": '_10',\n",
    "        'Comedy': 'Comedy',\n",
    "        'Crime': 'Crime',\n",
    "        'Documentary': 'Documentary',\n",
    "        'Drama': 'Drama',\n",
    "        'Fantasy': 'Fantasy',\n",
    "        'Film-Noir': '_16',\n",
    "        'Horror': 'Horror',\n",
    "        'Musical': 'Musical',\n",
    "        'Mystery': 'Mystery',\n",
    "        'Romance': 'Romance',\n",
    "        'Sci-Fi': '_21',\n",
    "        'Thriller': 'Thriller',\n",
    "        'War': 'War',\n",
    "        'Western': 'Western'\n",
    "    }\n",
    "    for old_genre, new_genre in genre_mapping.items():\n",
    "        if getattr(movie, new_genre):\n",
    "            genres.append(old_genre)\n",
    "    return ', '.join(genres)\n",
    "\n",
    "def recommend_movies(user_id, num_recommendations):\n",
    "    user = user2user_encoded[user_id]\n",
    "    movies_not_watched = ratings[ratings['user_id']!=user_id]['movie_id'].unique()\n",
    "    movies_not_watched = [movie2movie_encoded.get(x) for x in movies_not_watched]\n",
    "    user_encoder = [user] * len(movies_not_watched)\n",
    "\n",
    "    user_encoder = np.array(user_encoder).reshape(-1,1)\n",
    "    movies_not_watched = np.array(movies_not_watched).reshape(-1,1)\n",
    "\n",
    "    ratings_predicted = model.predict([user_encoder, movies_not_watched])\n",
    "\n",
    "    top_ratings_indices = ratings_predicted.flatten().argsort()[-num_recommendations:][::-1]\n",
    "    recommended_movie_ids = [movie_ids[i] for i in top_ratings_indices]\n",
    "    recommended_ratings = [ratings_predicted[i][0] for i in top_ratings_indices]\n",
    "\n",
    "    print(\"Showing recommendations for user: {}\".format(user_id))\n",
    "    print(\"====\" * 9)\n",
    "    print(\"Movies with high ratings from user\")\n",
    "    print(\"----\" * 8)\n",
    "    top_movies_user = (\n",
    "        ratings[ratings['user_id'] == user_id]\n",
    "        .sort_values(by=\"rating\", ascending=False)\n",
    "        .head(5)\n",
    "        .movie_id.values\n",
    "    )\n",
    "\n",
    "    movie_df_rows = movies[movies[\"movie_id\"].isin(top_movies_user)]\n",
    "\n",
    "    for row in movie_df_rows.itertuples():\n",
    "        print(row.title, \":\", transform_genres(row))\n",
    "\n",
    "    print(\"----\" * 8)\n",
    "    print(\"Top movie recommendations\")\n",
    "    print(\"----\" * 8)\n",
    "    recommended_movies = movies[movies[\"movie_id\"].isin(recommended_movie_ids)]\n",
    "    for idx, row in enumerate(recommended_movies.itertuples()):\n",
    "        print(row.title, \": Predicted rating - \", recommended_ratings[idx], \", Genres - \", transform_genres(row))"
   ],
   "metadata": {
    "collapsed": false,
    "ExecuteTime": {
     "end_time": "2023-06-07T21:29:22.678288300Z",
     "start_time": "2023-06-07T21:29:22.632007400Z"
    },
    "pycharm": {
     "name": "#%%\n"
    }
   }
  },
  {
   "cell_type": "code",
   "execution_count": null,
   "outputs": [],
   "source": [
    "ratings_new = ratings.filter()"
   ],
   "metadata": {
    "collapsed": false,
    "pycharm": {
     "name": "#%%\n"
    }
   }
  },
  {
   "cell_type": "code",
   "execution_count": 58,
   "outputs": [
    {
     "name": "stdout",
     "output_type": "stream",
     "text": [
      "53/53 [==============================] - 0s 1ms/step\n",
      "Showing recommendations for user: 2\n",
      "====================================\n",
      "Movies with high ratings from user\n",
      "--------------------------------\n",
      "Godfather, The (1972) : Action, Crime, Drama\n",
      "Kolya (1996) : Comedy\n",
      "Good Will Hunting (1997) : Drama\n",
      "Emma (1996) : Drama, Romance\n",
      "Wings of the Dove, The (1997) : Drama, Romance, Thriller\n",
      "--------------------------------\n",
      "Top movie recommendations\n",
      "--------------------------------\n",
      "Usual Suspects, The (1995) : Predicted rating -  4.795822 , Genres -  Crime, Thriller\n",
      "Fargo (1996) : Predicted rating -  4.782403 , Genres -  Crime, Drama, Thriller\n",
      "2001: A Space Odyssey (1968) : Predicted rating -  4.7804933 , Genres -  Drama, Mystery, Sci-Fi, Thriller\n",
      "Godfather: Part II, The (1974) : Predicted rating -  4.7764606 , Genres -  Action, Crime, Drama\n",
      "Good Will Hunting (1997) : Predicted rating -  4.7748413 , Genres -  Drama\n",
      "One Flew Over the Cuckoo's Nest (1975) : Predicted rating -  4.771671 , Genres -  Drama\n",
      "Adventures of Robin Hood, The (1938) : Predicted rating -  4.77125 , Genres -  Action, Adventure\n",
      "Rear Window (1954) : Predicted rating -  4.7697372 , Genres -  Mystery, Thriller\n",
      "Glory (1989) : Predicted rating -  4.768291 , Genres -  Action, Drama, War\n",
      "High Noon (1952) : Predicted rating -  4.766868 , Genres -  Western\n"
     ]
    }
   ],
   "source": [
    "recommend_movies(user_id=2, num_recommendations=10)"
   ],
   "metadata": {
    "collapsed": false,
    "ExecuteTime": {
     "end_time": "2023-06-07T21:44:23.248523300Z",
     "start_time": "2023-06-07T21:44:23.006185800Z"
    },
    "pycharm": {
     "name": "#%%\n"
    }
   }
  },
  {
   "cell_type": "code",
   "execution_count": 57,
   "outputs": [
    {
     "name": "stdout",
     "output_type": "stream",
     "text": [
      "User 2's ratings:\n",
      "Toy Story (1995) : Animation, Children's, Comedy : 4\n",
      "Richard III (1995) : Drama, War : 2\n",
      "Mighty Aphrodite (1995) : Comedy : 4\n",
      "Postino, Il (1994) : Drama, Romance : 4\n",
      "Antonia's Line (1995) : Drama : 3\n",
      "Birdcage, The (1996) : Comedy : 4\n",
      "Star Wars (1977) : Action, Adventure, Romance, Sci-Fi, War : 5\n",
      "Fargo (1996) : Crime, Drama, Thriller : 5\n",
      "Truth About Cats & Dogs, The (1996) : Comedy, Romance : 4\n",
      "Godfather, The (1972) : Action, Crime, Drama : 5\n",
      "Jerry Maguire (1996) : Drama, Romance : 4\n",
      "Kolya (1996) : Comedy : 5\n",
      "Shall We Dance? (1996) : Comedy : 5\n",
      "My Best Friend's Wedding (1997) : Comedy, Romance : 4\n",
      "Men in Black (1997) : Action, Adventure, Comedy, Sci-Fi : 4\n",
      "Contact (1997) : Drama, Sci-Fi : 3\n",
      "Full Monty, The (1997) : Comedy : 4\n",
      "Good Will Hunting (1997) : Drama : 5\n",
      "Heat (1995) : Action, Crime, Thriller : 4\n",
      "Sabrina (1995) : Comedy, Romance : 3\n",
      "Sense and Sensibility (1995) : Drama, Romance : 5\n",
      "Leaving Las Vegas (1995) : Drama, Romance : 4\n",
      "Restoration (1995) : Drama : 4\n",
      "Bed of Roses (1996) : Drama, Romance : 3\n",
      "Once Upon a Time... When We Were Colored (1995) : Drama : 4\n",
      "Up Close and Personal (1996) : Drama, Romance : 3\n",
      "River Wild, The (1994) : Action, Thriller : 3\n",
      "Time to Kill, A (1996) : Drama : 4\n",
      "Emma (1996) : Drama, Romance : 5\n",
      "Tin Cup (1996) : Comedy, Romance : 4\n",
      "Secrets & Lies (1996) : Drama : 5\n",
      "English Patient, The (1996) : Drama, Romance, War : 4\n",
      "Marvin's Room (1996) : Drama : 3\n",
      "Scream (1996) : Horror, Thriller : 3\n",
      "Evita (1996) : Drama, Musical : 3\n",
      "Fierce Creatures (1997) : Comedy : 3\n",
      "Absolute Power (1997) : Mystery, Thriller : 3\n",
      "Rosewood (1997) : Drama : 4\n",
      "Donnie Brasco (1997) : Crime, Drama : 4\n",
      "Liar Liar (1997) : Comedy : 1\n",
      "Breakdown (1997) : Action, Thriller : 4\n",
      "Promesse, La (1996) : Drama : 3\n",
      "Ulee's Gold (1997) : Drama : 4\n",
      "Face/Off (1997) : Action, Sci-Fi, Thriller : 3\n",
      "Hoodlum (1997) : Crime, Drama, Film-Noir : 4\n",
      "Air Force One (1997) : Action, Thriller : 4\n",
      "In & Out (1997) : Comedy : 4\n",
      "L.A. Confidential (1997) : Crime, Film-Noir, Mystery, Thriller : 5\n",
      "Ulee's Gold (1997) : Drama : 4\n",
      "Fly Away Home (1996) : Adventure, Children's : 4\n",
      "Ice Storm, The (1997) : Drama : 3\n",
      "Mrs. Brown (Her Majesty, Mrs. Brown) (1997) : Drama, Romance : 4\n",
      "Devil's Advocate, The (1997) : Crime, Horror, Mystery, Thriller : 3\n",
      "FairyTale: A True Story (1997) : Children's, Drama, Fantasy : 3\n",
      "Deceiver (1997) : Crime : 1\n",
      "Rainmaker, The (1997) : Drama : 4\n",
      "Wings of the Dove, The (1997) : Drama, Romance, Thriller : 5\n",
      "Midnight in the Garden of Good and Evil (1997) : Comedy, Crime, Drama, Mystery : 3\n",
      "Titanic (1997) : Action, Drama, Romance : 5\n",
      "3 Ninjas: High Noon At Mega Mountain (1998) : Action, Children's : 1\n",
      "Apt Pupil (1998) : Drama, Thriller : 1\n",
      "As Good As It Gets (1997) : Comedy, Drama : 5\n"
     ]
    }
   ],
   "source": [
    "def print_user_ratings(user_id):\n",
    "    # Get all movies rated by the user\n",
    "    user_movies = ratings[ratings['user_id'] == user_id].movie_id.values\n",
    "\n",
    "    # Get details of these movies from the movies DataFrame\n",
    "    movie_df_rows = movies[movies[\"movie_id\"].isin(user_movies)]\n",
    "\n",
    "    # For each movie, print the title, genres, and rating\n",
    "    for row in movie_df_rows.itertuples():\n",
    "        user_rating = ratings[(ratings['user_id'] == user_id) & (ratings['movie_id'] == row.movie_id)].rating.values[0]\n",
    "        print(row.title, \":\", transform_genres(row), \":\", user_rating)\n",
    "\n",
    "user_id = 2\n",
    "print(f\"User {user_id}'s ratings:\")\n",
    "print_user_ratings(user_id)"
   ],
   "metadata": {
    "collapsed": false,
    "ExecuteTime": {
     "end_time": "2023-06-07T21:44:07.870574500Z",
     "start_time": "2023-06-07T21:44:07.801657300Z"
    },
    "pycharm": {
     "name": "#%%\n"
    }
   }
  },
  {
   "cell_type": "code",
   "execution_count": null,
   "outputs": [],
   "source": [],
   "metadata": {
    "collapsed": false,
    "pycharm": {
     "name": "#%%\n"
    }
   }
  }
 ],
 "metadata": {
  "kernelspec": {
   "display_name": "Python 3",
   "language": "python",
   "name": "python3"
  },
  "language_info": {
   "codemirror_mode": {
    "name": "ipython",
    "version": 2
   },
   "file_extension": ".py",
   "mimetype": "text/x-python",
   "name": "python",
   "nbconvert_exporter": "python",
   "pygments_lexer": "ipython2",
   "version": "2.7.6"
  }
 },
 "nbformat": 4,
 "nbformat_minor": 0
}