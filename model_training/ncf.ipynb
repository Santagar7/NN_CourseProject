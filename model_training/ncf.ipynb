{
 "cells": [
  {
   "cell_type": "code",
   "execution_count": 1,
   "metadata": {
    "collapsed": true,
    "pycharm": {
     "name": "#%%\n"
    },
    "ExecuteTime": {
     "end_time": "2023-06-10T11:09:14.256066700Z",
     "start_time": "2023-06-10T11:09:10.285517700Z"
    }
   },
   "outputs": [],
   "source": [
    "import pandas as pd\n",
    "import numpy as np\n",
    "from sklearn.model_selection import train_test_split\n",
    "from keras.layers import Input, Embedding, Flatten, Dot, Dense\n",
    "from keras.models import Model\n",
    "from keras.models import load_model\n",
    "from sklearn.metrics import mean_absolute_error\n",
    "from sklearn.metrics import mean_squared_error, mean_absolute_error\n",
    "import matplotlib.pyplot as plt\n",
    "from keras.layers import Dropout\n",
    "from keras.regularizers import l2"
   ]
  },
  {
   "cell_type": "code",
   "execution_count": 2,
   "outputs": [],
   "source": [
    "ratings = pd.read_csv('../base_dataset/ml-100k/u.data', sep='\\t', names=['user_id', 'movie_id', 'rating', 'timestamp'])"
   ],
   "metadata": {
    "collapsed": false,
    "pycharm": {
     "name": "#%%\n"
    },
    "ExecuteTime": {
     "end_time": "2023-06-10T11:09:14.337490100Z",
     "start_time": "2023-06-10T11:09:14.258080600Z"
    }
   }
  },
  {
   "cell_type": "code",
   "execution_count": 3,
   "outputs": [],
   "source": [
    "user_ids = ratings['user_id'].unique().tolist()\n",
    "movie_ids = ratings['movie_id'].unique().tolist()\n",
    "user2user_encoded = {x: i for i, x in enumerate(user_ids)}\n",
    "movie2movie_encoded = {x: i for i, x in enumerate(movie_ids)}\n",
    "\n",
    "ratings['user'] = ratings['user_id'].map(user2user_encoded)\n",
    "ratings['movie'] = ratings['movie_id'].map(movie2movie_encoded)\n",
    "\n",
    "num_users = len(user2user_encoded)\n",
    "num_movies = len(movie2movie_encoded)"
   ],
   "metadata": {
    "collapsed": false,
    "pycharm": {
     "name": "#%%\n"
    },
    "ExecuteTime": {
     "end_time": "2023-06-10T11:09:14.337490100Z",
     "start_time": "2023-06-10T11:09:14.305692400Z"
    }
   }
  },
  {
   "cell_type": "code",
   "execution_count": 4,
   "outputs": [],
   "source": [
    "X = ratings[['user', 'movie']].values\n",
    "y = ratings['rating'].values\n",
    "\n",
    "X_train, X_test, y_train, y_test = train_test_split(X, y, test_size=0.2, random_state=42)"
   ],
   "metadata": {
    "collapsed": false,
    "pycharm": {
     "name": "#%%\n"
    },
    "ExecuteTime": {
     "end_time": "2023-06-10T11:09:14.350374300Z",
     "start_time": "2023-06-10T11:09:14.337490100Z"
    }
   }
  },
  {
   "cell_type": "code",
   "execution_count": 5,
   "outputs": [],
   "source": [
    "user_input = Input(shape=(1,), dtype='int32', name='user')\n",
    "movie_input = Input(shape=(1,), dtype='int32', name='movie')\n",
    "\n",
    "user_embedding = Embedding(output_dim=50, input_dim=num_users, input_length=1, name='user_embedding', embeddings_regularizer=l2(0.001))(user_input)\n",
    "movie_embedding = Embedding(output_dim=50, input_dim=num_movies, input_length=1, name='movie_embedding', embeddings_regularizer=l2(0.001))(movie_input)\n",
    "\n",
    "user_flatten = Flatten()(user_embedding)\n",
    "movie_flatten = Flatten()(movie_embedding)\n",
    "\n",
    "dot_product = Dot(axes=1)([user_flatten, movie_flatten])\n",
    "\n",
    "dropout = Dropout(0.5)(dot_product)\n",
    "\n",
    "dense1 = Dense(128, activation='relu', kernel_regularizer=l2(0.001))(dropout)\n",
    "dense2 = Dense(1, kernel_regularizer=l2(0.001))(dense1)\n",
    "\n",
    "model = Model(inputs=[user_input, movie_input], outputs=dense2)\n",
    "\n",
    "model.compile(optimizer='adam', loss='mse', metrics=['mae'])"
   ],
   "metadata": {
    "collapsed": false,
    "pycharm": {
     "name": "#%%\n"
    },
    "ExecuteTime": {
     "end_time": "2023-06-10T11:09:14.608520Z",
     "start_time": "2023-06-10T11:09:14.347838700Z"
    }
   }
  },
  {
   "cell_type": "code",
   "execution_count": 6,
   "outputs": [
    {
     "name": "stdout",
     "output_type": "stream",
     "text": [
      "Epoch 1/5\n",
      "2250/2250 [==============================] - 6s 2ms/step - loss: 1.7061 - mae: 1.0477 - val_loss: 1.3001 - val_mae: 0.9583\n",
      "Epoch 2/5\n",
      "2250/2250 [==============================] - 5s 2ms/step - loss: 1.2739 - mae: 0.9439 - val_loss: 1.3058 - val_mae: 0.9488\n",
      "Epoch 3/5\n",
      "2250/2250 [==============================] - 5s 2ms/step - loss: 1.2741 - mae: 0.9440 - val_loss: 1.2996 - val_mae: 0.9537\n",
      "Epoch 4/5\n",
      "2250/2250 [==============================] - 5s 2ms/step - loss: 1.2735 - mae: 0.9438 - val_loss: 1.3021 - val_mae: 0.9507\n",
      "Epoch 5/5\n",
      "2250/2250 [==============================] - 5s 2ms/step - loss: 1.2729 - mae: 0.9440 - val_loss: 1.3000 - val_mae: 0.9523\n"
     ]
    }
   ],
   "source": [
    "history = model.fit([X_train[:, 0], X_train[:, 1]], y_train, epochs=5, verbose=1, validation_split=0.1)"
   ],
   "metadata": {
    "collapsed": false,
    "pycharm": {
     "name": "#%%\n"
    },
    "ExecuteTime": {
     "end_time": "2023-06-10T11:09:40.605739600Z",
     "start_time": "2023-06-10T11:09:14.600453800Z"
    }
   }
  },
  {
   "cell_type": "code",
   "execution_count": 7,
   "outputs": [
    {
     "name": "stderr",
     "output_type": "stream",
     "text": [
      "WARNING:absl:Found untraced functions such as _update_step_xla while saving (showing 1 of 1). These functions will not be directly callable after loading.\n"
     ]
    },
    {
     "name": "stdout",
     "output_type": "stream",
     "text": [
      "INFO:tensorflow:Assets written to: ..\\model\\ncf_model\\assets\n"
     ]
    },
    {
     "name": "stderr",
     "output_type": "stream",
     "text": [
      "INFO:tensorflow:Assets written to: ..\\model\\ncf_model\\assets\n"
     ]
    }
   ],
   "source": [
    "model.save('..\\\\model\\\\ncf_model')"
   ],
   "metadata": {
    "collapsed": false,
    "pycharm": {
     "name": "#%%\n"
    },
    "ExecuteTime": {
     "end_time": "2023-06-10T11:09:42.048065500Z",
     "start_time": "2023-06-10T11:09:40.608734900Z"
    }
   }
  },
  {
   "cell_type": "code",
   "execution_count": 8,
   "outputs": [],
   "source": [
    "movie_cols = ['movie_id', 'title', 'release_date', 'video_release_date', 'imdb_url',\n",
    "              'unknown', 'Action', 'Adventure', 'Animation', \"Children's\", 'Comedy',\n",
    "              'Crime', 'Documentary', 'Drama', 'Fantasy', 'Film-Noir', 'Horror',\n",
    "              'Musical', 'Mystery', 'Romance', 'Sci-Fi', 'Thriller', 'War', 'Western']\n",
    "\n",
    "movies = pd.read_csv('../base_dataset/ml-100k/u.item', sep='|', names=movie_cols, encoding='latin-1')"
   ],
   "metadata": {
    "collapsed": false,
    "pycharm": {
     "name": "#%%\n"
    },
    "ExecuteTime": {
     "end_time": "2023-06-10T11:09:42.116574300Z",
     "start_time": "2023-06-10T11:09:42.022074700Z"
    }
   }
  },
  {
   "cell_type": "code",
   "execution_count": 9,
   "outputs": [
    {
     "name": "stdout",
     "output_type": "stream",
     "text": [
      "625/625 [==============================] - 1s 1ms/step\n",
      "Test MSE: 1.26381603327911\n",
      "Test MAE: 0.9398419483184814\n"
     ]
    },
    {
     "data": {
      "text/plain": "<Figure size 1000x500 with 1 Axes>",
      "image/png": "[encoded data removed]"
     },
     "metadata": {},
     "output_type": "display_data"
    },
    {
     "data": {
      "text/plain": "<Figure size 1000x500 with 1 Axes>",
      "image/png": "[encoded data removed]"
     },
     "metadata": {},
     "output_type": "display_data"
    }
   ],
   "source": [
    "# Calculate prediction errors\n",
    "y_pred = model.predict([X_test[:, 0], X_test[:, 1]])\n",
    "mse = mean_squared_error(y_test, y_pred)\n",
    "mae = mean_absolute_error(y_test, y_pred)\n",
    "\n",
    "print(f'Test MSE: {mse}')\n",
    "print(f'Test MAE: {mae}')\n",
    "\n",
    "# Plot training & validation Mean Absolute Error values\n",
    "plt.figure(figsize=(10, 5))\n",
    "plt.plot(history.history['mae'])\n",
    "plt.plot(history.history['val_mae'])\n",
    "plt.title('Model Mean Absolute Error')\n",
    "plt.ylabel('Mean Absolute Error')\n",
    "plt.xlabel('Epoch')\n",
    "plt.legend(['Train', 'Test'], loc='upper right')\n",
    "plt.show()\n",
    "\n",
    "# Plot training & validation loss values\n",
    "plt.figure(figsize=(10, 5))\n",
    "plt.plot(history.history['loss'])\n",
    "plt.plot(history.history['val_loss'])\n",
    "plt.title('Model loss')\n",
    "plt.ylabel('Loss')\n",
    "plt.xlabel('Epoch')\n",
    "plt.legend(['Train', 'Test'], loc='upper right')\n",
    "plt.show()\n"
   ],
   "metadata": {
    "collapsed": false,
    "pycharm": {
     "name": "#%%\n"
    },
    "ExecuteTime": {
     "end_time": "2023-06-10T11:09:43.748263100Z",
     "start_time": "2023-06-10T11:09:42.058576Z"
    }
   }
  },
  {
   "cell_type": "code",
   "execution_count": 12,
   "outputs": [],
   "source": [
    "def get_genres(row):\n",
    "    return ', '.join([col for col in movie_cols[5:] if row[col]])\n",
    "\n",
    "def transform_genres(movie):\n",
    "    genres = []\n",
    "    genre_mapping = {\n",
    "        'unknown': 'unknown',\n",
    "        'Action': 'Action',\n",
    "        'Adventure': 'Adventure',\n",
    "        'Animation': 'Animation',\n",
    "        \"Children's\": '_10',\n",
    "        'Comedy': 'Comedy',\n",
    "        'Crime': 'Crime',\n",
    "        'Documentary': 'Documentary',\n",
    "        'Drama': 'Drama',\n",
    "        'Fantasy': 'Fantasy',\n",
    "        'Film-Noir': '_16',\n",
    "        'Horror': 'Horror',\n",
    "        'Musical': 'Musical',\n",
    "        'Mystery': 'Mystery',\n",
    "        'Romance': 'Romance',\n",
    "        'Sci-Fi': '_21',\n",
    "        'Thriller': 'Thriller',\n",
    "        'War': 'War',\n",
    "        'Western': 'Western'\n",
    "    }\n",
    "    for old_genre, new_genre in genre_mapping.items():\n",
    "        if getattr(movie, new_genre):\n",
    "            genres.append(old_genre)\n",
    "    return ', '.join(genres)\n",
    "\n",
    "def recommend_movies(user_id, num_recommendations):\n",
    "    user = user2user_encoded[user_id]\n",
    "    movies_not_watched = ratings[ratings['user_id']!=user_id]['movie_id'].unique()\n",
    "    movies_not_watched = [movie2movie_encoded.get(x) for x in movies_not_watched]\n",
    "    user_encoder = [user] * len(movies_not_watched)\n",
    "\n",
    "    user_encoder = np.array(user_encoder).reshape(-1,1)\n",
    "    movies_not_watched = np.array(movies_not_watched).reshape(-1,1)\n",
    "\n",
    "    ratings_predicted = model.predict([user_encoder, movies_not_watched])\n",
    "\n",
    "    top_ratings_indices = ratings_predicted.flatten().argsort()[-num_recommendations:][::-1]\n",
    "    recommended_movie_ids = [movie_ids[i] for i in top_ratings_indices]\n",
    "    recommended_ratings = [ratings_predicted[i][0] for i in top_ratings_indices]\n",
    "\n",
    "    print(\"Showing recommendations for user: {}\".format(user_id))\n",
    "    print(\"====\" * 9)\n",
    "    print(\"Movies with high ratings from user\")\n",
    "    print(\"----\" * 8)\n",
    "    top_movies_user = (\n",
    "        ratings[ratings['user_id'] == user_id]\n",
    "        .sort_values(by=\"rating\", ascending=False)\n",
    "        .head(5)\n",
    "        .movie_id.values\n",
    "    )\n",
    "\n",
    "    movie_df_rows = movies[movies[\"movie_id\"].isin(top_movies_user)]\n",
    "\n",
    "    for row in movie_df_rows.itertuples():\n",
    "        print(row.title, \":\", transform_genres(row))\n",
    "\n",
    "    print(\"----\" * 8)\n",
    "    print(\"Top movie recommendations\")\n",
    "    print(\"----\" * 8)\n",
    "    recommended_movies = movies[movies[\"movie_id\"].isin(recommended_movie_ids)]\n",
    "    for idx, row in enumerate(recommended_movies.itertuples()):\n",
    "        print(row.title, \": Predicted rating - \", recommended_ratings[idx], \", Genres - \", transform_genres(row))"
   ],
   "metadata": {
    "collapsed": false,
    "pycharm": {
     "name": "#%%\n"
    },
    "ExecuteTime": {
     "end_time": "2023-06-10T11:09:44.540918300Z",
     "start_time": "2023-06-10T11:09:44.368826700Z"
    }
   }
  },
  {
   "cell_type": "code",
   "execution_count": null,
   "outputs": [],
   "source": [
    "recommend_movies(user_id=2, num_recommendations=10)"
   ],
   "metadata": {
    "collapsed": false,
    "pycharm": {
     "name": "#%%\n"
    },
    "ExecuteTime": {
     "start_time": "2023-06-10T11:09:46.169727800Z"
    }
   }
  },
  {
   "cell_type": "code",
   "execution_count": null,
   "outputs": [],
   "source": [
    "def print_user_ratings(user_id):\n",
    "    user_movies = ratings[ratings['user_id'] == user_id].movie_id.values\n",
    "\n",
    "    movie_df_rows = movies[movies[\"movie_id\"].isin(user_movies)]\n",
    "\n",
    "    for row in movie_df_rows.itertuples():\n",
    "        user_rating = ratings[(ratings['user_id'] == user_id) & (ratings['movie_id'] == row.movie_id)].rating.values[0]\n",
    "        print(row.title, \":\", transform_genres(row), \":\", user_rating)\n",
    "\n",
    "user_id = 2\n",
    "print(f\"User {user_id}'s ratings:\")\n",
    "print_user_ratings(user_id)"
   ],
   "metadata": {
    "collapsed": false,
    "pycharm": {
     "name": "#%%\n"
    },
    "ExecuteTime": {
     "start_time": "2023-06-10T11:09:46.172231700Z"
    }
   }
  },
  {
   "cell_type": "code",
   "execution_count": null,
   "outputs": [],
   "source": [],
   "metadata": {
    "collapsed": false,
    "pycharm": {
     "name": "#%%\n"
    },
    "ExecuteTime": {
     "start_time": "2023-06-10T11:09:46.174229400Z"
    }
   }
  }
 ],
 "metadata": {
  "kernelspec": {
   "display_name": "Python 3",
   "language": "python",
   "name": "python3"
  },
  "language_info": {
   "codemirror_mode": {
    "name": "ipython",
    "version": 2
   },
   "file_extension": ".py",
   "mimetype": "text/x-python",
   "name": "python",
   "nbconvert_exporter": "python",
   "pygments_lexer": "ipython2",
   "version": "2.7.6"
  }
 },
 "nbformat": 4,
 "nbformat_minor": 0
}
